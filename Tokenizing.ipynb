{
 "cells": [
  {
   "source": [
    "# Imports"
   ],
   "cell_type": "markdown",
   "metadata": {}
  },
  {
   "cell_type": "code",
   "execution_count": 1,
   "metadata": {},
   "outputs": [],
   "source": [
    "import torch\n",
    "import transformers\n",
    "from tokenizers import Tokenizer\n",
    "from tokenizers import normalizers, pre_tokenizers, models, processors, decoders, trainers\n",
    "from torch.utils.data import DataLoader\n",
    "from datasets import load_dataset, total_allocated_bytes\n",
    "\n",
    "import config"
   ]
  },
  {
   "source": [
    "# Hyper parameters"
   ],
   "cell_type": "markdown",
   "metadata": {}
  },
  {
   "source": [
    "# Load wikitext-103 dataset\n",
    "train_ds, val_ds, test_ds = load_dataset('wikitext', 'wikitext-103-raw-v1', split=[\"train\", \"validation\", \"test\"])"
   ],
   "cell_type": "code",
   "metadata": {},
   "execution_count": 2,
   "outputs": [
    {
     "output_type": "stream",
     "name": "stderr",
     "text": [
      "Old caching folder C:\\Users\\Marc Bøg\\.cache\\huggingface\\datasets\\wikitext\\wikitext-103-raw-v1\\1.0.0\\47c57a6745aa5ce8e16a5355aaa4039e3aa90d1adad87cef1ad4e0f29e74ac91 for dataset wikitext exists but not data were found. Removing it. \n",
      "Downloading and preparing dataset wikitext/wikitext-103-raw-v1 (download: Unknown size, generated: Unknown size, post-processed: Unknown size, total: Unknown size) to C:\\Users\\Marc Bøg\\.cache\\huggingface\\datasets\\wikitext\\wikitext-103-raw-v1\\1.0.0\\47c57a6745aa5ce8e16a5355aaa4039e3aa90d1adad87cef1ad4e0f29e74ac91...\n",
      "Dataset wikitext downloaded and prepared to C:\\Users\\Marc Bøg\\.cache\\huggingface\\datasets\\wikitext\\wikitext-103-raw-v1\\1.0.0\\47c57a6745aa5ce8e16a5355aaa4039e3aa90d1adad87cef1ad4e0f29e74ac91. Subsequent calls will reuse this data.\n"
     ]
    }
   ]
  },
  {
   "cell_type": "code",
   "execution_count": 3,
   "metadata": {},
   "outputs": [],
   "source": [
    "# Tokenizer Configuration - Uses Byte Pair Encoding\n",
    "# NFKD Unicode Normalization, all lowercase\n",
    "# Split on whitespace, store info about space (metaspace)\n",
    "# Split digits from words\n",
    "trainer = trainers.BpeTrainer(\n",
    "    vocab_size=config.VOCAB_SIZE,\n",
    "    special_tokens=[\"[PAD]\", \"[CLS]\", \"[SEP]\", \"[EOS]\", \"[UNK]\", \"[MASK]\"],\n",
    "    show_progress=True\n",
    ")\n",
    "\n",
    "tokenizer = Tokenizer(models.BPE())\n",
    "tokenizer.normalizer = normalizers.Sequence([\n",
    "    normalizers.NFKD(),\n",
    "    normalizers.Lowercase(),\n",
    "    #normalizers.Strip(\"both\"),\n",
    "])\n",
    "tokenizer.pre_tokenizer = pre_tokenizers.Sequence([\n",
    "    pre_tokenizers.Whitespace(),\n",
    "    pre_tokenizers.Metaspace(),\n",
    "    pre_tokenizers.Digits(individual_digits=False)\n",
    "])\n",
    "tokenizer.post_processor = processors.TemplateProcessing(\n",
    "    single=\"[CLS] $A [EOS]\",\n",
    "    pair=\"[CLS] $A [SEP] $B:1 [EOS]:1\",\n",
    "    special_tokens=[(\"[CLS]\", 1), (\"[SEP]\", 2), (\"[EOS]\", 3)]\n",
    ")\n",
    "tokenizer.decoder = decoders.BPEDecoder()\n",
    "\n",
    "# Pad to longest string in batch\n",
    "tokenizer.enable_padding(\n",
    "    direction=\"right\",\n",
    "    #length=config.PADDING_SIZE,\n",
    "    pad_id=tokenizer.token_to_id(\"[PAD]\")\n",
    ")\n",
    "# tokenizer.enable_truncation(\n",
    "#     max_length=config.PADDING_SIZE\n",
    "# )"
   ]
  },
  {
   "cell_type": "code",
   "execution_count": 4,
   "metadata": {},
   "outputs": [],
   "source": [
    "tokenizer.train(trainer, config.PATH_DATA_FILES)"
   ]
  },
  {
   "cell_type": "code",
   "execution_count": 5,
   "metadata": {},
   "outputs": [],
   "source": [
    "files = tokenizer.model.save(config.PATH_DATA)\n",
    "tokenizer.model = models.BPE.from_file(*files, unk_token=\"[UNK]\")\n",
    "tokenizer.save(config.PATH_TOKENIZER)"
   ]
  },
  {
   "cell_type": "code",
   "execution_count": 6,
   "metadata": {
    "tags": []
   },
   "outputs": [
    {
     "output_type": "stream",
     "name": "stderr",
     "text": [
      "100%|██████████| 14074/14074 [03:06<00:00, 75.49ba/s]\n",
      "100%|██████████| 30/30 [00:00<00:00, 80.62ba/s]\n",
      "100%|██████████| 35/35 [00:00<00:00, 78.20ba/s]\n"
     ]
    }
   ],
   "source": [
    "def tokenize(batch):\n",
    "    encoded = tokenizer.encode_batch(batch[\"text\"])\n",
    "    ids = []\n",
    "    type_ids = []\n",
    "    attention_mask = []\n",
    "    special_tokens_mask = []\n",
    "\n",
    "    for x in encoded:\n",
    "        ids.append(x.ids)\n",
    "        #type_ids.append(x.type_ids)\n",
    "        attention_mask.append(x.attention_mask)\n",
    "        #special_tokens_mask.append(x.special_tokens_mask)\n",
    "    \n",
    "    return {\n",
    "        \"ids\": ids,\n",
    "        #\"type_ids\": type_ids,\n",
    "        \"attention_mask\": attention_mask,\n",
    "        #\"special_tokens_mask\": special_tokens_mask\n",
    "    }\n",
    "\n",
    "\n",
    "ttrain_ds = train_ds.map(tokenize, batched=True, batch_size=config.BATCH_SIZE)\n",
    "tval_ds = val_ds.map(tokenize, batched=True, batch_size=config.BATCH_SIZE)\n",
    "ttest_ds = test_ds.map(tokenize, batched=True, batch_size=config.BATCH_SIZE)"
   ]
  },
  {
   "cell_type": "code",
   "execution_count": 7,
   "metadata": {},
   "outputs": [
    {
     "output_type": "execute_result",
     "data": {
      "text/plain": [
       "['attention_mask', 'ids', 'text']"
      ]
     },
     "metadata": {},
     "execution_count": 7
    }
   ],
   "source": [
    "ttrain_ds.save_to_disk(config.PATH_TRAIN_TOK)\n",
    "tval_ds.save_to_disk(config.PATH_VAL_TOK)\n",
    "ttest_ds.save_to_disk(config.PATH_TEST_TOK)\n",
    "\n",
    "tval_ds.column_names"
   ]
  },
  {
   "cell_type": "code",
   "execution_count": 27,
   "metadata": {},
   "outputs": [],
   "source": [
    "ttrain_ds.set_format(type=\"np\", columns=[\"ids\", \"attention_mask\"])"
   ]
  },
  {
   "cell_type": "code",
   "execution_count": 28,
   "metadata": {},
   "outputs": [
    {
     "output_type": "execute_result",
     "data": {
      "text/plain": [
       "['attention_mask', 'ids', 'text']"
      ]
     },
     "metadata": {},
     "execution_count": 28
    }
   ],
   "source": [
    "ttrain_ds.column_names"
   ]
  },
  {
   "cell_type": "code",
   "execution_count": 29,
   "metadata": {},
   "outputs": [],
   "source": [
    "dataloader = DataLoader(ttrain_ds, batch_size=config.BATCH_SIZE)"
   ]
  },
  {
   "cell_type": "code",
   "execution_count": 32,
   "metadata": {},
   "outputs": [
    {
     "output_type": "execute_result",
     "data": {
      "text/plain": [
       "{'attention_mask': tensor([[1, 1, 0,  ..., 0, 0, 0],\n",
       "         [1, 1, 1,  ..., 0, 0, 0],\n",
       "         [1, 1, 0,  ..., 0, 0, 0],\n",
       "         ...,\n",
       "         [1, 1, 1,  ..., 0, 0, 0],\n",
       "         [1, 1, 0,  ..., 0, 0, 0],\n",
       "         [1, 1, 1,  ..., 0, 0, 0]]),\n",
       " 'ids': tensor([[   1,    3,    0,  ...,    0,    0,    0],\n",
       "         [   1, 4209, 5310,  ...,    0,    0,    0],\n",
       "         [   1,    3,    0,  ...,    0,    0,    0],\n",
       "         ...,\n",
       "         [   1, 4209, 4209,  ...,    0,    0,    0],\n",
       "         [   1,    3,    0,  ...,    0,    0,    0],\n",
       "         [   1, 4165, 5628,  ...,    0,    0,    0]])}"
      ]
     },
     "metadata": {},
     "execution_count": 32
    }
   ],
   "source": [
    "d = iter(dataloader)\n",
    "next(d)"
   ]
  },
  {
   "cell_type": "code",
   "execution_count": 75,
   "metadata": {},
   "outputs": [
    {
     "output_type": "execute_result",
     "data": {
      "text/plain": [
       "tensor([[   1, 4209, 4209,  ...,    0,    0,    0],\n",
       "        [   1,    3,    0,  ...,    0,    0,    0],\n",
       "        [   1, 4165, 4669,  ...,    0,    0,    0],\n",
       "        ...,\n",
       "        [   1,    3,    0,  ...,    0,    0,    0],\n",
       "        [   1, 4209, 4209,  ...,    0,    0,    0],\n",
       "        [   1,    3,    0,  ...,    0,    0,    0]])"
      ]
     },
     "metadata": {},
     "execution_count": 75
    }
   ],
   "source": [
    "next(d)[\"ids\"]"
   ]
  },
  {
   "cell_type": "code",
   "execution_count": null,
   "metadata": {},
   "outputs": [],
   "source": []
  }
 ],
 "metadata": {
  "kernelspec": {
   "name": "python3",
   "display_name": "Python 3"
  },
  "language_info": {
   "codemirror_mode": {
    "name": "ipython",
    "version": 3
   },
   "file_extension": ".py",
   "mimetype": "text/x-python",
   "name": "python",
   "nbconvert_exporter": "python",
   "pygments_lexer": "ipython3",
   "version": "3.8.5-final"
  }
 },
 "nbformat": 4,
 "nbformat_minor": 4
}