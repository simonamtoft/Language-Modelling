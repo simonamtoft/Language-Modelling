{
 "cells": [
  {
   "source": [
    "# Imports"
   ],
   "cell_type": "markdown",
   "metadata": {}
  },
  {
   "cell_type": "code",
   "execution_count": 1,
   "metadata": {},
   "outputs": [],
   "source": [
    "import torch\n",
    "import transformers\n",
    "from tokenizers import Tokenizer\n",
    "from tokenizers import normalizers, pre_tokenizers, models, processors, decoders, trainers\n",
    "from torch.utils.data import DataLoader\n",
    "from datasets import load_dataset, total_allocated_bytes\n",
    "\n",
    "import config"
   ]
  },
  {
   "source": [
    "# Load wikitext-103 dataset\n",
    "train_ds, val_ds, test_ds = load_dataset('wikitext', 'wikitext-103-raw-v1', split=[\"train\", \"validation\", \"test\"])"
   ],
   "cell_type": "code",
   "metadata": {},
   "execution_count": 2,
   "outputs": [
    {
     "output_type": "stream",
     "name": "stderr",
     "text": [
      "Reusing dataset wikitext (C:\\Users\\sap98\\.cache\\huggingface\\datasets\\wikitext\\wikitext-103-raw-v1\\1.0.0\\47c57a6745aa5ce8e16a5355aaa4039e3aa90d1adad87cef1ad4e0f29e74ac91)\n"
     ]
    }
   ]
  },
  {
   "source": [
    "# Train Tokenizer\n",
    "\n",
    "Train a Byte Pair Encoding (BPE) tokenizer with the following characteristics:\n",
    "- Splits on whitespace\n",
    "- Store info about space (metaspace)\n",
    "- Split digits from words"
   ],
   "cell_type": "markdown",
   "metadata": {}
  },
  {
   "cell_type": "code",
   "execution_count": null,
   "metadata": {},
   "outputs": [],
   "source": [
    "# Define trainer\n",
    "trainer = trainers.BpeTrainer(\n",
    "    vocab_size=config.VOCAB_SIZE,\n",
    "    special_tokens=[\"[PAD]\", \"[CLS]\", \"[SEP]\", \"[EOS]\", \"[UNK]\", \"[MASK]\"],\n",
    "    show_progress=True\n",
    ")"
   ]
  },
  {
   "cell_type": "code",
   "execution_count": 4,
   "metadata": {},
   "outputs": [],
   "source": [
    "# Define tokenizer\n",
    "tokenizer = Tokenizer(models.BPE())\n",
    "\n",
    "# NFKD Unicode Normalization, all lowercase\n",
    "tokenizer.normalizer = normalizers.Sequence([\n",
    "    normalizers.NFKD(),\n",
    "    normalizers.Lowercase(),\n",
    "])\n",
    "\n",
    "# Split on whitespace and digits, and store info about space (metaspace)\n",
    "tokenizer.pre_tokenizer = pre_tokenizers.Sequence([\n",
    "    pre_tokenizers.Whitespace(),\n",
    "    pre_tokenizers.Metaspace(),\n",
    "    pre_tokenizers.Digits(individual_digits=False)\n",
    "])\n",
    "\n",
    "# Decoding\n",
    "tokenizer.post_processor = processors.TemplateProcessing(\n",
    "    single=\"[CLS] $A [EOS]\",\n",
    "    pair=\"[CLS] $A [SEP] $B:1 [EOS]:1\",\n",
    "    special_tokens=[(\"[CLS]\", 1), (\"[SEP]\", 2), (\"[EOS]\", 3)]\n",
    ")\n",
    "tokenizer.decoder = decoders.BPEDecoder()"
   ]
  },
  {
   "cell_type": "code",
   "execution_count": 5,
   "metadata": {},
   "outputs": [],
   "source": [
    "tokenizer.train(trainer, config.PATH_DATA_FILES)"
   ]
  },
  {
   "cell_type": "code",
   "execution_count": 6,
   "metadata": {},
   "outputs": [],
   "source": [
    "# Enable padding\n",
    "# Pad to longest string in batch\n",
    "tokenizer.enable_padding(\n",
    "    direction=\"right\",\n",
    "    pad_id=tokenizer.token_to_id(\"[PAD]\")\n",
    ")"
   ]
  },
  {
   "cell_type": "code",
   "execution_count": 7,
   "metadata": {},
   "outputs": [],
   "source": [
    "files = tokenizer.model.save(config.PATH_DATA)\n",
    "tokenizer.model = models.BPE.from_file(*files, unk_token=\"[UNK]\")\n",
    "tokenizer.save(config.PATH_TOKENIZER)"
   ]
  },
  {
   "source": [
    "# Tokenize Dataset"
   ],
   "cell_type": "markdown",
   "metadata": {}
  },
  {
   "cell_type": "code",
   "execution_count": 9,
   "metadata": {
    "tags": []
   },
   "outputs": [],
   "source": [
    "def tokenize(batch):\n",
    "    encoded = tokenizer.encode_batch(batch[\"text\"])\n",
    "    ids = []\n",
    "    type_ids = []\n",
    "    attention_mask = []\n",
    "    special_tokens_mask = []\n",
    "\n",
    "    for x in encoded:\n",
    "        ids.append(x.ids)\n",
    "        attention_mask.append(x.attention_mask)\n",
    "    \n",
    "    return {\n",
    "        \"ids\": ids,\n",
    "        \"attention_mask\": attention_mask,\n",
    "    }"
   ]
  },
  {
   "cell_type": "code",
   "execution_count": 10,
   "metadata": {},
   "outputs": [
    {
     "output_type": "stream",
     "name": "stderr",
     "text": [
      "100%|██████████| 14074/14074 [06:19<00:00, 37.11ba/s]\n",
      "100%|██████████| 30/30 [00:00<00:00, 34.40ba/s]\n",
      "100%|██████████| 35/35 [00:01<00:00, 33.62ba/s]\n"
     ]
    }
   ],
   "source": [
    "# Tokenize the data\n",
    "ttrain_ds = train_ds.map(tokenize, batched=True, batch_size=config.BATCH_SIZE)\n",
    "tval_ds = val_ds.map(tokenize, batched=True, batch_size=config.BATCH_SIZE)\n",
    "ttest_ds = test_ds.map(tokenize, batched=True, batch_size=config.BATCH_SIZE)"
   ]
  },
  {
   "cell_type": "code",
   "execution_count": 11,
   "metadata": {},
   "outputs": [
    {
     "output_type": "execute_result",
     "data": {
      "text/plain": [
       "['attention_mask', 'ids', 'text']"
      ]
     },
     "metadata": {},
     "execution_count": 11
    }
   ],
   "source": [
    "# Save the tokenized data to disk\n",
    "ttrain_ds.save_to_disk(config.PATH_TRAIN_TOK)\n",
    "tval_ds.save_to_disk(config.PATH_VAL_TOK)\n",
    "ttest_ds.save_to_disk(config.PATH_TEST_TOK)\n",
    "\n",
    "tval_ds.column_names"
   ]
  },
  {
   "source": [
    "# Look at stuff"
   ],
   "cell_type": "markdown",
   "metadata": {}
  },
  {
   "cell_type": "code",
   "execution_count": 12,
   "metadata": {},
   "outputs": [],
   "source": [
    "ttrain_ds.set_format(type=\"np\", columns=[\"ids\", \"attention_mask\"])"
   ]
  },
  {
   "cell_type": "code",
   "execution_count": 13,
   "metadata": {},
   "outputs": [
    {
     "output_type": "execute_result",
     "data": {
      "text/plain": [
       "['attention_mask', 'ids', 'text']"
      ]
     },
     "metadata": {},
     "execution_count": 13
    }
   ],
   "source": [
    "ttrain_ds.column_names"
   ]
  },
  {
   "cell_type": "code",
   "execution_count": 14,
   "metadata": {},
   "outputs": [],
   "source": [
    "dataloader = DataLoader(ttrain_ds, batch_size=config.BATCH_SIZE)"
   ]
  },
  {
   "cell_type": "code",
   "execution_count": 15,
   "metadata": {},
   "outputs": [
    {
     "output_type": "execute_result",
     "data": {
      "text/plain": [
       "{'attention_mask': tensor([[1, 1, 0,  ..., 0, 0, 0],\n",
       "         [1, 1, 1,  ..., 0, 0, 0],\n",
       "         [1, 1, 0,  ..., 0, 0, 0],\n",
       "         ...,\n",
       "         [1, 1, 1,  ..., 0, 0, 0],\n",
       "         [1, 1, 0,  ..., 0, 0, 0],\n",
       "         [1, 1, 1,  ..., 0, 0, 0]]),\n",
       " 'ids': tensor([[   1,    3,    0,  ...,    0,    0,    0],\n",
       "         [   1, 4209, 5310,  ...,    0,    0,    0],\n",
       "         [   1,    3,    0,  ...,    0,    0,    0],\n",
       "         ...,\n",
       "         [   1, 4209, 4209,  ...,    0,    0,    0],\n",
       "         [   1,    3,    0,  ...,    0,    0,    0],\n",
       "         [   1, 4165, 5628,  ...,    0,    0,    0]])}"
      ]
     },
     "metadata": {},
     "execution_count": 15
    }
   ],
   "source": [
    "d = iter(dataloader)\n",
    "next(d)"
   ]
  },
  {
   "cell_type": "code",
   "execution_count": 16,
   "metadata": {},
   "outputs": [
    {
     "output_type": "execute_result",
     "data": {
      "text/plain": [
       "tensor([[   1, 4165, 9834,  ...,    0,    0,    0],\n",
       "        [   1, 4184, 1272,  ...,    0,    0,    0],\n",
       "        [   1, 4184, 1272,  ...,    0,    0,    0],\n",
       "        ...,\n",
       "        [   1, 1272, 7938,  ...,    0,    0,    0],\n",
       "        [   1,    3,    0,  ...,    0,    0,    0],\n",
       "        [   1, 4209, 4209,  ...,    0,    0,    0]])"
      ]
     },
     "metadata": {},
     "execution_count": 16
    }
   ],
   "source": [
    "next(d)[\"ids\"]"
   ]
  },
  {
   "cell_type": "code",
   "execution_count": null,
   "metadata": {},
   "outputs": [],
   "source": []
  }
 ],
 "metadata": {
  "kernelspec": {
   "name": "python3",
   "display_name": "Python 3"
  },
  "language_info": {
   "codemirror_mode": {
    "name": "ipython",
    "version": 3
   },
   "file_extension": ".py",
   "mimetype": "text/x-python",
   "name": "python",
   "nbconvert_exporter": "python",
   "pygments_lexer": "ipython3",
   "version": "3.8.6-final"
  }
 },
 "nbformat": 4,
 "nbformat_minor": 4
}