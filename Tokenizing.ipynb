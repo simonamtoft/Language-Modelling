{
 "cells": [
  {
   "source": [
    "# Imports"
   ],
   "cell_type": "markdown",
   "metadata": {}
  },
  {
   "cell_type": "code",
   "execution_count": null,
   "metadata": {},
   "outputs": [],
   "source": [
    "import torch\n",
    "import transformers\n",
    "from tokenizers import Tokenizer\n",
    "from tokenizers import normalizers, pre_tokenizers, models, processors, decoders, trainers\n",
    "from torch.utils.data import DataLoader\n",
    "from datasets import load_dataset, total_allocated_bytes\n",
    "\n",
    "import config"
   ]
  },
  {
   "source": [
    "# Train Tokenizer\n",
    "\n",
    "Train a Byte Pair Encoding (BPE) tokenizer with the following characteristics:\n",
    "- Splits on whitespace\n",
    "- Store info about space (metaspace)\n",
    "- Split digits from words"
   ],
   "cell_type": "markdown",
   "metadata": {}
  },
  {
   "cell_type": "code",
   "execution_count": null,
   "metadata": {},
   "outputs": [],
   "source": [
    "# Define trainer\n",
    "trainer = trainers.BpeTrainer(\n",
    "    vocab_size=config.VOCAB_SIZE,\n",
    "    special_tokens=[\"[PAD]\", \"[CLS]\", \"[SEP]\", \"[EOS]\", \"[UNK]\", \"[MASK]\"],\n",
    ")"
   ]
  },
  {
   "cell_type": "code",
   "execution_count": null,
   "metadata": {},
   "outputs": [],
   "source": [
    "# Define tokenizer\n",
    "tokenizer = Tokenizer(models.BPE())\n",
    "\n",
    "# NFKD Unicode Normalization, all lowercase\n",
    "tokenizer.normalizer = normalizers.Sequence([\n",
    "    normalizers.NFKD(),\n",
    "    normalizers.Lowercase(),\n",
    "])\n",
    "\n",
    "# Split on whitespace and digits, and store info about space (metaspace)\n",
    "tokenizer.pre_tokenizer = pre_tokenizers.Sequence([\n",
    "    pre_tokenizers.ByteLevel(),\n",
    "    # pre_tokenizers.Whitespace(),\n",
    "    # pre_tokenizers.Metaspace(),\n",
    "    pre_tokenizers.Digits(individual_digits=False)\n",
    "])\n",
    "\n",
    "# Decoding\n",
    "tokenizer.post_processor = processors.TemplateProcessing(\n",
    "    single=\"[CLS] $A [EOS]\",\n",
    "    pair=\"[CLS] $A [SEP] $B:1 [EOS]:1\",\n",
    "    special_tokens=[(\"[CLS]\", 1), (\"[SEP]\", 2), (\"[EOS]\", 3)]\n",
    ")\n",
    "tokenizer.decoder = decoders.ByteLevel()"
   ]
  },
  {
   "cell_type": "code",
   "execution_count": null,
   "metadata": {},
   "outputs": [],
   "source": [
    "tokenizer.train(trainer, config.PATH_DATA_FILES)"
   ]
  },
  {
   "cell_type": "code",
   "execution_count": null,
   "metadata": {},
   "outputs": [],
   "source": [
    "# # Enable padding\n",
    "# # Pad to longest string in batch\n",
    "# tokenizer.enable_padding(\n",
    "#     direction=\"right\",\n",
    "#     length=config.SEQ_LEN,\n",
    "#     pad_id=tokenizer.token_to_id(\"[PAD]\")\n",
    "# )\n",
    "# tokenizer.enable_truncation(config.SEQ_LEN)"
   ]
  },
  {
   "cell_type": "code",
   "execution_count": null,
   "metadata": {},
   "outputs": [],
   "source": [
    "files = tokenizer.model.save(config.PATH_DATA)\n",
    "tokenizer.model = models.BPE.from_file(*files, unk_token=\"[UNK]\")\n",
    "tokenizer.save(config.PATH_TOKENIZER)"
   ]
  },
  {
   "source": [
    "# Tokenize Dataset"
   ],
   "cell_type": "markdown",
   "metadata": {}
  },
  {
   "source": [
    "# Load wikitext-103 dataset\n",
    "train_ds, val_ds, test_ds = load_dataset('wikitext', 'wikitext-103-raw-v1', split=[\"train\", \"validation\", \"test\"])"
   ],
   "cell_type": "code",
   "metadata": {},
   "execution_count": null,
   "outputs": []
  },
  {
   "cell_type": "code",
   "execution_count": null,
   "metadata": {
    "tags": []
   },
   "outputs": [],
   "source": [
    "def tokenize(batch):\n",
    "    encoded = tokenizer.encode_batch(batch[\"text\"])\n",
    "    ids = []\n",
    "    n = []\n",
    "\n",
    "    for x in encoded:\n",
    "        ids.append(x.ids)\n",
    "        try:\n",
    "            l = x.ids.index(0)\n",
    "        except ValueError:\n",
    "            l = config.SEQ_LEN\n",
    "        n.append(l)\n",
    "\n",
    "    return {\n",
    "        \"ids\": ids,\n",
    "        \"n\": n,\n",
    "    }"
   ]
  },
  {
   "cell_type": "code",
   "execution_count": null,
   "metadata": {},
   "outputs": [],
   "source": [
    "# Tokenize the data\n",
    "ttrain_ds = train_ds.map(tokenize, batched=True, batch_size=config.BATCH_SIZE)\n",
    "tval_ds = val_ds.map(tokenize, batched=True, batch_size=config.BATCH_SIZE)\n",
    "ttest_ds = test_ds.map(tokenize, batched=True, batch_size=config.BATCH_SIZE)"
   ]
  },
  {
   "cell_type": "code",
   "execution_count": null,
   "metadata": {},
   "outputs": [],
   "source": [
    "# Save the tokenized data to disk\n",
    "ttrain_ds.flatten_()\n",
    "tval_ds.flatten_()\n",
    "ttest_ds.flatten_()\n",
    "\n",
    "ttrain_ds.save_to_disk(config.PATH_TRAIN_TOK)\n",
    "tval_ds.save_to_disk(config.PATH_VAL_TOK)\n",
    "ttest_ds.save_to_disk(config.PATH_TEST_TOK)\n",
    "\n",
    "tval_ds.column_names"
   ]
  },
  {
   "source": [
    "# Test Tokenizer"
   ],
   "cell_type": "markdown",
   "metadata": {}
  },
  {
   "cell_type": "code",
   "execution_count": null,
   "metadata": {},
   "outputs": [],
   "source": []
  },
  {
   "cell_type": "code",
   "execution_count": null,
   "metadata": {},
   "outputs": [],
   "source": []
  }
 ],
 "metadata": {
  "kernelspec": {
   "name": "python3",
   "display_name": "Python 3"
  },
  "language_info": {
   "codemirror_mode": {
    "name": "ipython",
    "version": 3
   },
   "file_extension": ".py",
   "mimetype": "text/x-python",
   "name": "python",
   "nbconvert_exporter": "python",
   "pygments_lexer": "ipython3",
   "version": "3.8.5-final"
  }
 },
 "nbformat": 4,
 "nbformat_minor": 4
}