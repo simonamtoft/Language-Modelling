{
 "cells": [
  {
   "source": [
    "# Imports"
   ],
   "cell_type": "markdown",
   "metadata": {}
  },
  {
   "cell_type": "code",
   "execution_count": 15,
   "metadata": {},
   "outputs": [],
   "source": [
    "import torch\n",
    "import transformers\n",
    "from tokenizers import Tokenizer\n",
    "from tokenizers import normalizers, pre_tokenizers, models, processors, decoders, trainers\n",
    "from torch.utils.data import DataLoader\n",
    "from datasets import load_dataset, total_allocated_bytes\n",
    "\n",
    "files = [f\"wiki.{split}.raw\" for split in [\"test\", \"train\", \"valid\"]]"
   ]
  },
  {
   "source": [
    "# Hyper parameters"
   ],
   "cell_type": "markdown",
   "metadata": {}
  },
  {
   "cell_type": "code",
   "execution_count": 16,
   "metadata": {},
   "outputs": [],
   "source": [
    "VOCAB_SIZE = 12800\n",
    "PADDING_SIZE = 256"
   ]
  },
  {
   "source": [
    "# Load wikitext-103 dataset\n",
    "train_ds, val_ds, test_ds = load_dataset('wikitext', 'wikitext-103-raw-v1', split=[\"train\", \"validation\", \"test\"])\n"
   ],
   "cell_type": "code",
   "metadata": {},
   "execution_count": 17,
   "outputs": [
    {
     "output_type": "stream",
     "name": "stderr",
     "text": [
      "Reusing dataset wikitext (C:\\Users\\Marc Bøg\\.cache\\huggingface\\datasets\\wikitext\\wikitext-103-raw-v1\\1.0.0\\47c57a6745aa5ce8e16a5355aaa4039e3aa90d1adad87cef1ad4e0f29e74ac91)\n"
     ]
    }
   ]
  },
  {
   "cell_type": "code",
   "execution_count": 18,
   "metadata": {},
   "outputs": [],
   "source": [
    "# Tokenizer Configuration - Uses Byte Pair Encoding\n",
    "# NFKD Unicode Normalization, all lowercase\n",
    "# Split on whitespace, store info about space (metaspace)\n",
    "# Split digits from words\n",
    "\n",
    "tokenizer = Tokenizer(models.BPE())\n",
    "tokenizer.normalizer = normalizers.Sequence([\n",
    "    normalizers.NFKD(),\n",
    "    normalizers.Lowercase(),\n",
    "    #normalizers.Strip(\"both\"),\n",
    "])\n",
    "tokenizer.pre_tokenizer = pre_tokenizers.Sequence([\n",
    "    pre_tokenizers.Whitespace(),\n",
    "    pre_tokenizers.Metaspace(),\n",
    "    pre_tokenizers.Digits(individual_digits=False)\n",
    "])\n",
    "tokenizer.post_processor = processors.TemplateProcessing(\n",
    "    single=\"[CLS] $A [EOS]\",\n",
    "    pair=\"[CLS] $A [SEP] $B:1 [EOS]:1\",\n",
    "    special_tokens=[(\"[CLS]\", 1), (\"[SEP]\", 2), (\"[EOS]\", 3)]\n",
    ")\n",
    "tokenizer.decoder = decoders.Metaspace()\n",
    "tokenizer.enable_padding(\n",
    "    direction=\"right\",\n",
    "    length=PADDING_SIZE,\n",
    "    pad_id=0\n",
    ")\n",
    "tokenizer.enable_truncation(\n",
    "    max_length=PADDING_SIZE\n",
    ")\n"
   ]
  },
  {
   "cell_type": "code",
   "execution_count": 19,
   "metadata": {},
   "outputs": [],
   "source": [
    "trainer = trainers.BpeTrainer(\n",
    "    vocab_size=VOCAB_SIZE,\n",
    "    special_tokens=[\"[PAD]\", \"[CLS]\", \"[SEP]\", \"[EOS]\", \"[UNK]\", \"[MASK]\"],\n",
    "    show_progress=True\n",
    ")\n",
    "tokenizer.train(trainer, files)"
   ]
  },
  {
   "cell_type": "code",
   "execution_count": 20,
   "metadata": {},
   "outputs": [],
   "source": [
    "tokenizer.model.save('.')\n",
    "tokenizer.save('./serialized_tokenizer')"
   ]
  },
  {
   "cell_type": "code",
   "execution_count": 21,
   "metadata": {},
   "outputs": [
    {
     "output_type": "stream",
     "name": "stdout",
     "text": [
      "[Encoding(num_tokens=256, attributes=[ids, type_ids, tokens, offsets, attention_mask, special_tokens_mask, overflowing]), Encoding(num_tokens=256, attributes=[ids, type_ids, tokens, offsets, attention_mask, special_tokens_mask, overflowing])]\n"
     ]
    }
   ],
   "source": [
    "tokenizer.model = models.BPE.from_file(\"vocab.json\", \"merges.txt\")\n",
    "encoding = tokenizer.encode_batch([\"This is a test string\", \"and another one\"])\n",
    "print(encoding)"
   ]
  },
  {
   "cell_type": "code",
   "execution_count": 22,
   "metadata": {
    "tags": []
   },
   "outputs": [
    {
     "output_type": "stream",
     "name": "stderr",
     "text": [
      "100%|██████████| 1802/1802 [02:06<00:00, 14.23ba/s]\n",
      "100%|██████████| 4/4 [00:00<00:00, 14.64ba/s]\n",
      "100%|██████████| 5/5 [00:00<00:00, 15.75ba/s]\n"
     ]
    }
   ],
   "source": [
    "def tokenize(batch):\n",
    "    encoded = tokenizer.encode_batch(batch[\"text\"])\n",
    "    ids = []\n",
    "    type_ids = []\n",
    "    attention_mask = []\n",
    "    special_tokens_mask = []\n",
    "\n",
    "    for x in encoded:\n",
    "        ids.append(x.ids)\n",
    "        #type_ids.append(x.type_ids)\n",
    "        attention_mask.append(x.attention_mask)\n",
    "        #special_tokens_mask.append(x.special_tokens_mask)\n",
    "    \n",
    "    return {\n",
    "        \"ids\": ids,\n",
    "        #\"type_ids\": type_ids,\n",
    "        \"attention_mask\": attention_mask,\n",
    "        #\"special_tokens_mask\": special_tokens_mask\n",
    "    }\n",
    "\n",
    "\n",
    "ttrain_ds = train_ds.map(tokenize, batched=True)\n",
    "tval_ds = val_ds.map(tokenize, batched=True)\n",
    "ttest_ds = test_ds.map(tokenize, batched=True)"
   ]
  },
  {
   "cell_type": "code",
   "execution_count": 23,
   "metadata": {},
   "outputs": [
    {
     "output_type": "execute_result",
     "data": {
      "text/plain": [
       "['attention_mask', 'ids', 'text']"
      ]
     },
     "metadata": {},
     "execution_count": 23
    }
   ],
   "source": [
    "ttrain_ds.save_to_disk(\"tokenized_train\")\n",
    "tval_ds.save_to_disk(\"tokenized_val\")\n",
    "ttest_ds.save_to_disk(\"tokenized_test\")\n",
    "\n",
    "tval_ds.column_names"
   ]
  },
  {
   "cell_type": "code",
   "execution_count": 24,
   "metadata": {},
   "outputs": [],
   "source": [
    "ttrain_ds.set_format(type=\"pt\", columns=[\"ids\", \"attention_mask\"])"
   ]
  },
  {
   "cell_type": "code",
   "execution_count": 25,
   "metadata": {},
   "outputs": [
    {
     "output_type": "execute_result",
     "data": {
      "text/plain": [
       "['attention_mask', 'ids', 'text']"
      ]
     },
     "metadata": {},
     "execution_count": 25
    }
   ],
   "source": [
    "ttrain_ds.column_names"
   ]
  },
  {
   "cell_type": "code",
   "execution_count": 26,
   "metadata": {},
   "outputs": [],
   "source": [
    "dataloader = DataLoader(ttrain_ds, batch_size=32)"
   ]
  },
  {
   "cell_type": "code",
   "execution_count": 27,
   "metadata": {},
   "outputs": [
    {
     "output_type": "execute_result",
     "data": {
      "text/plain": [
       "{'attention_mask': tensor([[1, 1, 0,  ..., 0, 0, 0],\n",
       "         [1, 1, 1,  ..., 0, 0, 0],\n",
       "         [1, 1, 0,  ..., 0, 0, 0],\n",
       "         ...,\n",
       "         [1, 1, 0,  ..., 0, 0, 0],\n",
       "         [1, 1, 1,  ..., 1, 1, 1],\n",
       "         [1, 1, 1,  ..., 0, 0, 0]]),\n",
       " 'ids': tensor([[   1,    3,    0,  ...,    0,    0,    0],\n",
       "         [   1, 4209, 5310,  ...,    0,    0,    0],\n",
       "         [   1,    3,    0,  ...,    0,    0,    0],\n",
       "         ...,\n",
       "         [   1,    3,    0,  ...,    0,    0,    0],\n",
       "         [   1, 4184, 5044,  ..., 1272, 5462,    3],\n",
       "         [   1, 8300, 4401,  ...,    0,    0,    0]])}"
      ]
     },
     "metadata": {},
     "execution_count": 27
    }
   ],
   "source": [
    "d = iter(dataloader)\n",
    "next(d)"
   ]
  },
  {
   "cell_type": "code",
   "execution_count": 28,
   "metadata": {},
   "outputs": [
    {
     "output_type": "execute_result",
     "data": {
      "text/plain": [
       "{'attention_mask': tensor([[1, 1, 0,  ..., 0, 0, 0],\n",
       "         [1, 1, 1,  ..., 0, 0, 0],\n",
       "         [1, 1, 0,  ..., 0, 0, 0],\n",
       "         ...,\n",
       "         [1, 1, 0,  ..., 0, 0, 0],\n",
       "         [1, 1, 1,  ..., 1, 1, 1],\n",
       "         [1, 1, 1,  ..., 0, 0, 0]]),\n",
       " 'ids': tensor([[   1,    3,    0,  ...,    0,    0,    0],\n",
       "         [   1, 4209, 4209,  ...,    0,    0,    0],\n",
       "         [   1,    3,    0,  ...,    0,    0,    0],\n",
       "         ...,\n",
       "         [   1,    3,    0,  ...,    0,    0,    0],\n",
       "         [   1, 4228, 4827,  ..., 4176, 4165,    3],\n",
       "         [   1, 4165, 4821,  ...,    0,    0,    0]])}"
      ]
     },
     "metadata": {},
     "execution_count": 28
    }
   ],
   "source": [
    "next(d)"
   ]
  }
 ],
 "metadata": {
  "kernelspec": {
   "display_name": "Python 3",
   "language": "python",
   "name": "python3"
  },
  "language_info": {
   "codemirror_mode": {
    "name": "ipython",
    "version": 3
   },
   "file_extension": ".py",
   "mimetype": "text/x-python",
   "name": "python",
   "nbconvert_exporter": "python",
   "pygments_lexer": "ipython3",
   "version": "3.8.3-final"
  }
 },
 "nbformat": 4,
 "nbformat_minor": 4
}